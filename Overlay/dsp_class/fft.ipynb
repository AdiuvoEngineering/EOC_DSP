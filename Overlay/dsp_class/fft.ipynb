{
 "cells": [
  {
   "cell_type": "markdown",
   "metadata": {},
   "source": [
    "# **<p style=\"color:red;\">PYNQ FFT Exercise**"
   ]
  },
  {
   "cell_type": "markdown",
   "metadata": {},
   "source": [
    "![start](../images/prologue.png)"
   ]
  },
  {
   "cell_type": "markdown",
   "metadata": {},
   "source": [
    "---"
   ]
  },
  {
   "cell_type": "markdown",
   "metadata": {},
   "source": [
    "# *How to build a hardware FFT accelerator*"
   ]
  },
  {
   "cell_type": "markdown",
   "metadata": {},
   "source": [
    "![FFT](../images/fft.png)"
   ]
  },
  {
   "cell_type": "markdown",
   "metadata": {},
   "source": [
    "### Execute all of the following cells, fill in empty cells if instructed."
   ]
  },
  {
   "cell_type": "markdown",
   "metadata": {},
   "source": [
    "## 1. Determine what you would like to compute"
   ]
  },
  {
   "cell_type": "markdown",
   "metadata": {},
   "source": [
    "In this case it has been determined we would like as fast as possible float precision FFT computation up to length 32768 "
   ]
  },
  {
   "cell_type": "markdown",
   "metadata": {},
   "source": [
    "## 2. Benchmark the Python software"
   ]
  },
  {
   "cell_type": "markdown",
   "metadata": {},
   "source": [
    "### Exercise:\n",
    "1. import some useful libraries and modules: numpy as np, random, pynq import Overlay, axitimer\n",
    "1. load the FFT Overlay that includes an AXI timer IP block and your driver will auto bind to it\n",
    "    1. '/home/xilinx/jupyter_notebooks/class/Overlays/u96_axi_fft.bit'\n",
    "1. create test bench complex64 data vectors of length 32768 using random (see example below)\n",
    "1. use Numpy's built in FFT method and use our AXI timer to measure performance for lengths 64 through 32768 (only the powers of 2 lengths in between)"
   ]
  },
  {
   "cell_type": "markdown",
   "metadata": {},
   "source": [
    "Import libraries and modules:"
   ]
  },
  {
   "cell_type": "code",
   "execution_count": 2,
   "metadata": {},
   "outputs": [],
   "source": [
    "import numpy as np\n",
    "import random\n",
    "from pynq import Overlay\n",
    "import axitimer\n",
    "max_fft_N = 12 # Logic and DMA max for simple mode on ARM32 is 4096 complex 32-bit elements"
   ]
  },
  {
   "cell_type": "markdown",
   "metadata": {},
   "source": [
    "Load the FFT Overlay and allow axitimer to bind to it:"
   ]
  },
  {
   "cell_type": "code",
   "execution_count": 3,
   "metadata": {},
   "outputs": [],
   "source": [
    "ol = Overlay('/home/xilinx/jupyter_notebooks/dsp_class/fft.bit')"
   ]
  },
  {
   "cell_type": "code",
   "execution_count": null,
   "metadata": {},
   "outputs": [],
   "source": [
    "ol?"
   ]
  },
  {
   "cell_type": "markdown",
   "metadata": {},
   "source": [
    "Use Numpy 'complex64' type arrays and establish some test bench data to use when comparing results and performance."
   ]
  },
  {
   "cell_type": "markdown",
   "metadata": {},
   "source": [
    "``` python\n",
    "# Example of creating random value complex value numpy array test data:\n",
    "size =1024*4  # 4K max length vector\n",
    "din = np.empty(shape=(size,), dtype='complex64')\n",
    "din.imag[0:size] = np.random.rand(size,)\n",
    "din.real[0:size] = np.random.rand(size,)\n",
    "```"
   ]
  },
  {
   "cell_type": "markdown",
   "metadata": {},
   "source": [
    "``` python\n",
    "# Example loop walks through 64 to max length data in powers of 2 using a 100 trial average:\n",
    "tmr = ol.axi_timer\n",
    "tmr.start_tmr()\n",
    "sw_fft_times = []\n",
    "for i in range(6,max_FFT_N):\n",
    "    swt = 0\n",
    "    size = 2 ** i\n",
    "    din = np.empty(shape=(size,), dtype='complex64')\n",
    "    din.imag[0:size] = np.random.rand(size,)\n",
    "    din.real[0:size] = np.random.rand(size,)\n",
    "    for n in range(0,100):\n",
    "        start = tmr.read_count()\n",
    "        dout_sw = np.fft.fftn(din)\n",
    "        end = tmr.read_count()\n",
    "        swt += tmr.time_it(start,end)\n",
    "    sw_fft_times.append([size, 1000*swt/(n+1)])\n",
    "print('[size, Time in mS]')\n",
    "print(sw_fft_times)\n",
    "```"
   ]
  },
  {
   "cell_type": "code",
   "execution_count": 4,
   "metadata": {},
   "outputs": [
    {
     "name": "stdout",
     "output_type": "stream",
     "text": [
      "[size, Time in mS]\n",
      "[[64, 0.3447394296552606], [128, 0.4343336895656663], [256, 0.48847497951152496], [512, 0.6284247893715751], [1024, 0.830678799169321], [2048, 1.4075180685924813], [4096, 2.5284997474715003]]\n"
     ]
    }
   ],
   "source": [
    "tmr = ol.axi_timer\n",
    "tmr.start_tmr()\n",
    "sw_fft_times = []\n",
    "for i in range(6,max_fft_N+1):\n",
    "    swt = 0\n",
    "    size = 2 ** i\n",
    "    din = np.empty(shape=(size,), dtype='complex64')\n",
    "    din.imag[0:size] = np.random.rand(size,)\n",
    "    din.real[0:size] = np.random.rand(size,)\n",
    "    din[20] = 1.0;\n",
    "    for n in range(0,100):\n",
    "        start = tmr.read_count()\n",
    "        dout_sw = np.fft.fftn(din)\n",
    "        end = tmr.read_count()\n",
    "        swt += tmr.time_it(start,end)\n",
    "    sw_fft_times.append([size, 1000*swt/(n+1)])\n",
    "print('[size, Time in mS]')\n",
    "print(sw_fft_times)"
   ]
  },
  {
   "cell_type": "markdown",
   "metadata": {},
   "source": [
    "## 3. Build your hardware design"
   ]
  },
  {
   "cell_type": "markdown",
   "metadata": {},
   "source": [
    "[Block Design Schematics](../Overlays/microsoft_fft.pdf)"
   ]
  },
  {
   "cell_type": "markdown",
   "metadata": {},
   "source": [
    "![FFT Blocks](../images/axi_fft_blocks.png)"
   ]
  },
  {
   "cell_type": "markdown",
   "metadata": {},
   "source": [
    "## 4. Create and understand the hardware's configuration and settings"
   ]
  },
  {
   "cell_type": "markdown",
   "metadata": {},
   "source": [
    "[FFT IP Block Datasheet](../Datasheets/pg109-xfft.pdf)"
   ]
  },
  {
   "cell_type": "markdown",
   "metadata": {},
   "source": [
    "### FFT Engine setting details:"
   ]
  },
  {
   "cell_type": "markdown",
   "metadata": {},
   "source": [
    "![FFT Settings1](../images/axi_fft_settings1.png) ![FFT Settings1](../images/axi_fft_settings2.png)"
   ]
  },
  {
   "cell_type": "markdown",
   "metadata": {},
   "source": [
    "### Summary: FFT is setup for variable length from 64-4096, floating-point, CP is disabled and SCALE_SCH is unused"
   ]
  },
  {
   "cell_type": "markdown",
   "metadata": {},
   "source": [
    "## 5. Understanding the control bits"
   ]
  },
  {
   "cell_type": "markdown",
   "metadata": {},
   "source": [
    "[FFT IP Block Datasheet](../Datasheets/pg109-xfft.pdf)"
   ]
  },
  {
   "cell_type": "markdown",
   "metadata": {},
   "source": [
    "![FFT Config](../images/axi_fft_config.png)"
   ]
  },
  {
   "cell_type": "markdown",
   "metadata": {},
   "source": [
    "## 6. Create some Python to help with bitpacking the hardware FFT control words"
   ]
  },
  {
   "cell_type": "markdown",
   "metadata": {},
   "source": [
    "These functions should make life easier, they are already for execution in the cell below:\n",
    "\n",
    "``` python\n",
    "# Some convenient helper functions\n",
    "def bits_to_bytes(bit_str, base=2, byteorder='big') :\n",
    "    nbytes = int(len(bit_str) * .125 + .9) if base == 2 else int(len(bit_str) * .5 + .9) if base == 16 else 0  \n",
    "    return int(bit_str, base=base).to_bytes(nbytes, byteorder=byteorder)\n",
    "\n",
    "def bytes_to_uint32s(byte_s) :\n",
    "    assert type(byte_s) == bytes, RuntimeError\n",
    "    return [int.from_bytes(byte_s[i:i+4], byteorder='big') for i in range(0,len(byte_s),4)]\n",
    "\n",
    "def create_config_tdata(N, fwd_inv=True):\n",
    "    assert N > 2 and N < 13, RuntimeError\n",
    "    N = int(N)\n",
    "    NFFT = N.to_bytes(1, byteorder='big')            # Must be padded to byte\n",
    "    CP_LEN = ''                                      # padded but unused for this FFT config\n",
    "    FWD_INV = '0b1' if fwd_inv == True else '0b0'    # No padding\n",
    "    SCALE_SCH = ''                                   # padded but unused for this FFT config\n",
    "    return bytes_to_uint32s(bits_to_bytes(FWD_INV) + NFFT) # Final result needs padded to 8 bits worth and converted into 32-bit words for AXI\n",
    "```"
   ]
  },
  {
   "cell_type": "code",
   "execution_count": 5,
   "metadata": {},
   "outputs": [],
   "source": [
    "def bits_to_bytes(bit_str, base=2, byteorder='big') :\n",
    "    nbytes = int(len(bit_str) * .125 + .9) if base == 2 else int(len(bit_str) * .5 + .9) if base == 16 else 0  \n",
    "    return int(bit_str, base=base).to_bytes(nbytes, byteorder=byteorder)\n",
    "\n",
    "def bytes_to_uint32s(byte_s) :\n",
    "    assert type(byte_s) == bytes, RuntimeError\n",
    "    return [int.from_bytes(byte_s[i:i+4], byteorder='big') for i in range(0,len(byte_s),4)]\n",
    "\n",
    "def create_config_tdata(N, fwd_inv=True):\n",
    "    assert N > 2 and N < 13, RuntimeError\n",
    "    N = int(N)\n",
    "    NFFT = N.to_bytes(1, byteorder='big')            # Must be padded to byte\n",
    "    CP_LEN = ''                                      # padded but unused for this FFT config\n",
    "    FWD_INV = '0b1' if fwd_inv == True else '0b0'    # No padding\n",
    "    SCALE_SCH = ''                                   # padded but unused for this FFT config\n",
    "    return bytes_to_uint32s(bits_to_bytes(FWD_INV) + NFFT) # Final result needs padded to 8 bits worth and converted into 32-bit words for AXI"
   ]
  },
  {
   "cell_type": "markdown",
   "metadata": {},
   "source": [
    "## 7. Configure the hardware FFT"
   ]
  },
  {
   "cell_type": "markdown",
   "metadata": {},
   "source": [
    "### Exercise:\n",
    "1. import 'FifoStreamDriver' from the axififo.py module (be sure to bind the driver to the Overlay)\n",
    "1. create the config words for forward FFT mode and 2^12 = 4096 length (use create_config_tdata), assing the value to 'cfg_data'\n",
    "1. send the 'cfg_data' to the FFT IP block (use the FIFO stream driver method 'ol.axi_fifo_fft_ctrl.send_tx_pkt')"
   ]
  },
  {
   "cell_type": "code",
   "execution_count": 6,
   "metadata": {},
   "outputs": [],
   "source": [
    "# The constraints say it should work up to about 150MHz\n",
    "from pynq import Clocks"
   ]
  },
  {
   "cell_type": "code",
   "execution_count": 7,
   "metadata": {},
   "outputs": [],
   "source": [
    "from axififo import FifoStreamDriver\n",
    "ol = Overlay('/home/xilinx/jupyter_notebooks/dsp_class/fft.bit', download=False)\n",
    "cfg_data = create_config_tdata(max_fft_N, True)\n",
    "fft_cfg = ol.axi_fifo_fft_ctrl\n",
    "fft_cfg.send_tx_pkt(cfg_data)"
   ]
  },
  {
   "cell_type": "markdown",
   "metadata": {},
   "source": [
    "## 8.  Send and receive data to the hardware FFT using DMA"
   ]
  },
  {
   "cell_type": "markdown",
   "metadata": {},
   "source": [
    "### Exercise:\n",
    "The FFT has an AXI streaming interface connected to a dual channel DMA IP Block (see diagram above).  The FFT block consumes a length setting worth of 'complex64'\n",
    "1. import axidma.py to use the module's 'SimpleDmaDriver' class to write and read data to the hardware FFT accelerator\n",
    "1. reload the Overlay to bind 'SimpleDmaDriver'\n",
    "1. optionally create alias for the Overlay's 'SimpleDmaDriver'\n",
    "1. establish proper SimpleDmaDriver.txbuf size and data type by using SimpleDmaDriver.resize_bufs(4096, data_type='complex64')\n",
    "1. copy the data into the SimpleDmaDriver.txbuf[0:size] member, you could use 'din' from prior cells or create new values directly into txbuf\n",
    "1. send data with SimpleDmaDriver.send_dma()\n",
    "1. receive data with SimpleDmaDriver.rcv_dma()\n",
    "1. the data from the FFT output will be received into SimpleDmaDriver.rxbuf\n",
    "1. display the values of rxbuf\n",
    "1. compare the execution timing results with Numpy's FFT (use the same input data for Numpy as you input to the hardware FFT) "
   ]
  },
  {
   "cell_type": "code",
   "execution_count": 8,
   "metadata": {},
   "outputs": [
    {
     "data": {
      "text/plain": [
       "PynqBuffer([2080.8616   +2076.2485j  ,  -14.424713   +18.065918j,\n",
       "             -12.008835    -5.257553j, ...,   -3.3780823   +8.32341j ,\n",
       "              -7.8228607  -13.720352j,   12.099731    -3.609848j],\n",
       "           dtype=complex64)"
      ]
     },
     "execution_count": 8,
     "metadata": {},
     "output_type": "execute_result"
    }
   ],
   "source": [
    "import axidma\n",
    "ol = Overlay('/home/xilinx/jupyter_notebooks/dsp_class/fft.bit', download=False)\n",
    "fft = ol.axi_dma\n",
    "fft.resize_bufs(shape=[size,], dtype='complex64')\n",
    "fft.txbuf[0:size] = din\n",
    "fft.send_dma()\n",
    "fft.rcv_dma()\n",
    "fft.rxbuf"
   ]
  },
  {
   "cell_type": "code",
   "execution_count": 9,
   "metadata": {},
   "outputs": [
    {
     "data": {
      "text/plain": [
       "array([2080.86161569+2076.24855472j,  -14.42464724  +18.06596014j,\n",
       "        -12.00877717   -5.25752623j, ...,   -3.37804775   +8.32346054j,\n",
       "         -7.82282557  -13.7203099j ,   12.09977156   -3.60979947j])"
      ]
     },
     "execution_count": 9,
     "metadata": {},
     "output_type": "execute_result"
    }
   ],
   "source": [
    "np.fft.fftn(din)"
   ]
  },
  {
   "cell_type": "code",
   "execution_count": 10,
   "metadata": {},
   "outputs": [
    {
     "name": "stdout",
     "output_type": "stream",
     "text": [
      "mean squared error: 1.5256948063151306e-10\n"
     ]
    },
    {
     "data": {
      "image/png": "[encoded data removed]",
      "text/plain": [
       "<matplotlib.figure.Figure at 0xafb51c70>"
      ]
     },
     "metadata": {},
     "output_type": "display_data"
    }
   ],
   "source": [
    "%matplotlib inline\n",
    "import matplotlib.pyplot as plt\n",
    "hw_fft_data = np.abs(np.array(fft.rxbuf))\n",
    "sw_fft_data = np.abs(np.array(np.fft.fftn(din)))\n",
    "err_squared = (hw_fft_data-sw_fft_data)**2\n",
    "f, ax = plt.subplots()\n",
    "ax.plot(err_squared)\n",
    "ax.set_xlabel('Samples')\n",
    "ax.set_ylabel('MSE');\n",
    "print('mean squared error: ' + str(err_squared.mean()))"
   ]
  },
  {
   "cell_type": "markdown",
   "metadata": {},
   "source": [
    "### Do the results match exactly or are they just close?"
   ]
  },
  {
   "cell_type": "raw",
   "metadata": {},
   "source": [
    "Ans: They are close, software internal precision is different vs hardware, different algorithms as well.  Which one is right?  Both are off a little would need a golden reference to know."
   ]
  },
  {
   "cell_type": "markdown",
   "metadata": {},
   "source": [
    "## 9. Benchmarking: copy DMA driver FFT vs. Numpy FFT"
   ]
  },
  {
   "cell_type": "markdown",
   "metadata": {},
   "source": [
    "The custom DMA driver in axidma.py has 2 methods to read and write data with DMA. The 1st method 'send_cpy()' and 'rcv_cpy()' is convenient, just pass in a list of data and the method handles all the details including the allocate type buffers.  Along the way it makes a copy of the data however.  The 2nd method 'send_dma()' and 'rcv_dma()' requires pre-sizing built in 'rxbuf' and 'txbuf' buffers and loading the data into those buffers. This eliminates a copy each time and type allocate buffer allocation and free.\n",
    "\n",
    "### Exercise:\n",
    "1. use the example from the beginning but enhance it to use both the hardware and software versions of the FFT\n",
    "1. use the SimpleDmaDriver.send_cpy() and .rcv_cpy() methods\n",
    "1. enhance it to use the AXI hardware timer for measurement\n",
    "    1. use the timer to measure execution times of both the HW and SW FFT\n",
    "1. collect the metrics for 100 runs of both SW and HW and for each length from: 64 - 4096 in steps of powers of 2\n",
    "1. compare the execution times between the convenient copy DMA methods here vs the Numpy FFT"
   ]
  },
  {
   "cell_type": "code",
   "execution_count": 11,
   "metadata": {},
   "outputs": [
    {
     "name": "stdout",
     "output_type": "stream",
     "text": [
      "Times are in mS\n",
      "[[64, 0.5480366494519633], [128, 0.5669544294330457], [256, 0.610677059389323], [512, 0.7226246992773754], [1024, 0.9526475690473524], [2048, 1.504917398495082], [4096, 2.608132727391867]]\n",
      "[[64, 2.8564588471435424], [128, 2.900765977099234], [256, 2.90669028709331], [512, 2.9795929770204066], [1024, 3.1767541368232464], [2048, 3.5481924764518085], [4096, 4.263107515736891]]\n",
      "Acceleration factor:\n",
      "[[64, 0.1918587589665434], [128, 0.1954499032010849], [256, 0.21009361131488147], [512, 0.2425246350258216], [1024, 0.2998807990850686], [2048, 0.42413634786802745], [4096, 0.6117914497263256]]\n"
     ]
    }
   ],
   "source": [
    "sw_fft_times = []\n",
    "hw_fft_times = []\n",
    "tmr.start_tmr()\n",
    "for i in range(6,max_fft_N+1):\n",
    "    hwt = swt = 0\n",
    "    size = 2 ** i\n",
    "    din = np.empty(shape=(size,), dtype=np.complex64)\n",
    "    din.imag[0:size] = np.random.rand(size,)\n",
    "    din.real[0:size] = np.random.rand(size,)\n",
    "    fft_cfg.send_tx_pkt(create_config_tdata(i, 1))\n",
    "    for n in range(0,100):\n",
    "        start = tmr.read_count()\n",
    "        dout_sw = np.fft.fftn(din)\n",
    "        end = tmr.read_count()\n",
    "        swt += tmr.time_it(start,end)\n",
    "        start = tmr.read_count()\n",
    "        fft.send_cpy(din)\n",
    "        dout = fft.rcv_cpy(size, np.complex64)\n",
    "        end = tmr.read_count()\n",
    "        hwt += tmr.time_it(start,end)\n",
    "    sw_fft_times.append([size, 1000*swt/(n+1)])\n",
    "    hw_fft_times.append([size, 1000*hwt/(n+1)])\n",
    "print('Times are in mS')\n",
    "print(sw_fft_times)\n",
    "print(hw_fft_times)\n",
    "print('Acceleration factor:')\n",
    "a = []\n",
    "for i in range(0,len(hw_fft_times)):\n",
    "    a.append([sw_fft_times[i][0], sw_fft_times[i][1]/hw_fft_times[i][1]])\n",
    "print(a)"
   ]
  },
  {
   "cell_type": "code",
   "execution_count": 12,
   "metadata": {},
   "outputs": [
    {
     "data": {
      "image/png": "[encoded data removed]",
      "text/plain": [
       "<matplotlib.figure.Figure at 0xae0d54f0>"
      ]
     },
     "metadata": {},
     "output_type": "display_data"
    }
   ],
   "source": [
    "%matplotlib inline\n",
    "import matplotlib.pyplot as plt\n",
    "f, ax = plt.subplots()\n",
    "ax.plot([i[0] for i in sw_fft_times], [i[0]/(i[1] * .001) / 1e6 for i in sw_fft_times], 'r-o', label='numpy FFT')\n",
    "ax.plot([i[0] for i in hw_fft_times], [i[0]/(i[1] * .001) / 1e6 for i in hw_fft_times], 'b-o', label='Python with FPGA FFT')\n",
    "ax.set_xlabel('Complex samples length')\n",
    "ax.set_ylabel('Complex Mega-samples / per second')\n",
    "ax.legend()\n",
    "ax.set_title('Python with Xilinx PYNQ FPGA FFT Performance');"
   ]
  },
  {
   "cell_type": "markdown",
   "metadata": {},
   "source": [
    "## 10. Benchmark the system: pre-buf DMA FFT vs Numpy FFT"
   ]
  },
  {
   "cell_type": "markdown",
   "metadata": {},
   "source": [
    "### Exercise:\n",
    "1. use the example from the beginning but enhance it to use both the hardware and software versions of the FFT\n",
    "1. this time use the SimpleDmaDriver.send_dma() and .rcv_dma() methods to transfer the data, resize the buffers properly before using those methods\n",
    "1. enhance the program to use the AXI hardware timer for measurements\n",
    "    1. use the timer to measure execution times of both the HW and Numpy FFT\n",
    "1. collect the metrics for 100 runs of both Numpy and HW FFT and for each length from: 64 - 4096 in steps of powers of 2\n",
    "1. compare HW vs Numpy FFT execution times\n",
    "1. for the 4096 length hardware FFT, compare the fast DMA method vs. the Numpy performance in units of Complex Mega Samples per Second (samples/time)"
   ]
  },
  {
   "cell_type": "code",
   "execution_count": 13,
   "metadata": {},
   "outputs": [
    {
     "name": "stdout",
     "output_type": "stream",
     "text": [
      "Times are in mS\n",
      "[[64, 0.521088049478912], [128, 0.5572716794427286], [256, 0.6310357193689643], [512, 0.8059211991940791], [1024, 1.132341978867658], [2048, 1.89472030810528], [4096, 3.444231136555769]]\n",
      "[[64, 0.708256919291743], [128, 0.7153099092846898], [256, 0.7176161992823837], [512, 0.7231774892768226], [1024, 0.7182501192817498], [2048, 0.7209211092790792], [4096, 0.7472656792527339]]\n",
      "Acceleration factor:\n",
      "[[64, 0.7357330868013264], [128, 0.7790632734278775], [256, 0.8793498808973377], [512, 1.114416877107168], [1024, 1.5765287724560355], [2048, 2.6281936868237907], [4096, 4.609111902476242]]\n"
     ]
    }
   ],
   "source": [
    "sw_fft_times = []\n",
    "hw_fft_times = []\n",
    "tmr.start_tmr()\n",
    "for i in range(6,max_fft_N+1):\n",
    "    hwt = swt = 0\n",
    "    size = 2 ** i\n",
    "    fft.resize_bufs(size, dtype=np.complex64)\n",
    "    din = np.empty(shape=(size,), dtype=np.complex64)\n",
    "    fft.txbuf.imag[0:size] = np.random.rand(size,)\n",
    "    fft.txbuf.real[0:size] = np.random.rand(size,)\n",
    "    fft_cfg.send_tx_pkt(create_config_tdata(i, 1))\n",
    "    for n in range(0,100):\n",
    "        start = tmr.read_count()\n",
    "        dout_sw = np.fft.fftn(fft.txbuf)\n",
    "        end = tmr.read_count()\n",
    "        swt += tmr.time_it(start,end)\n",
    "        start = tmr.read_count()\n",
    "        fft.send_dma()\n",
    "        fft.rcv_dma()\n",
    "        end = tmr.read_count()\n",
    "        hwt += tmr.time_it(start,end)\n",
    "    sw_fft_times.append([size, 1000*swt/(n+1)])\n",
    "    hw_fft_times.append([size, 1000*hwt/(n+1)])\n",
    "print('Times are in mS')\n",
    "print(sw_fft_times)\n",
    "print(hw_fft_times)\n",
    "print('Acceleration factor:')\n",
    "a = []\n",
    "for i in range(0,len(hw_fft_times)):\n",
    "    a.append([sw_fft_times[i][0], sw_fft_times[i][1]/hw_fft_times[i][1]])\n",
    "print(a)\n",
    "fft.txbuf.close()\n",
    "fft.rxbuf.close()"
   ]
  },
  {
   "cell_type": "code",
   "execution_count": 14,
   "metadata": {},
   "outputs": [
    {
     "data": {
      "image/png": "[encoded data removed]",
      "text/plain": [
       "<matplotlib.figure.Figure at 0xae03a490>"
      ]
     },
     "metadata": {},
     "output_type": "display_data"
    }
   ],
   "source": [
    "%matplotlib inline\n",
    "import matplotlib.pyplot as plt\n",
    "f, ax = plt.subplots()\n",
    "ax.plot([i[0] for i in sw_fft_times], [i[0]/(i[1] * .001) / 1e6 for i in sw_fft_times], 'r-o', label='numpy FFT')\n",
    "ax.plot([i[0] for i in hw_fft_times], [i[0]/(i[1] * .001) / 1e6 for i in hw_fft_times], 'b-o', label='Python with FPGA FFT')\n",
    "ax.set_xlabel('Complex samples length')\n",
    "ax.set_ylabel('Complex Mega-samples / per second')\n",
    "ax.legend()\n",
    "ax.set_title('Python with Xilinx PYNQ FPGA FFT Performance');"
   ]
  },
  {
   "cell_type": "code",
   "execution_count": 15,
   "metadata": {},
   "outputs": [
    {
     "name": "stdout",
     "output_type": "stream",
     "text": [
      "CMS/sec: 5.481316904713196\n"
     ]
    }
   ],
   "source": [
    "print('CMS/sec: ' + str(2**max_fft_N/(hw_fft_times[i][1] * .001) / 1e6))"
   ]
  },
  {
   "cell_type": "code",
   "execution_count": 16,
   "metadata": {},
   "outputs": [
    {
     "name": "stdout",
     "output_type": "stream",
     "text": [
      "CMS/sec: 1.189234937378796\n"
     ]
    }
   ],
   "source": [
    "print('CMS/sec: ' + str(2**max_fft_N/(sw_fft_times[i][1] * .001) / 1e6))"
   ]
  },
  {
   "cell_type": "markdown",
   "metadata": {},
   "source": [
    "## 11. Plot an audio spectrogram of FFT data"
   ]
  },
  {
   "cell_type": "markdown",
   "metadata": {},
   "source": [
    "Finally here is a simple but complete example showing how various Python libraries can be combined together with PYNQ and a PL hardware accelerator:"
   ]
  },
  {
   "cell_type": "code",
   "execution_count": null,
   "metadata": {},
   "outputs": [],
   "source": [
    "%matplotlib inline\n",
    "import numpy as np\n",
    "from scipy.io import wavfile\n",
    "import matplotlib.pyplot as plt\n",
    "from pynq import Overlay\n",
    "import axidma\n",
    "import axififo\n",
    "from math import log2\n",
    "import warnings\n",
    "warnings.filterwarnings('ignore')\n",
    "\n",
    "def bits_to_bytes(bit_str, base=2, byteorder='big') :\n",
    "    nbytes = int(len(bit_str) * .125 + .9) if base == 2 else int(len(bit_str) * .5 + .9) if base == 16 else 0  \n",
    "    return int(bit_str, base=base).to_bytes(nbytes, byteorder=byteorder)\n",
    "\n",
    "def bytes_to_uint32s(byte_s) :\n",
    "    assert type(byte_s) == bytes, RuntimeError\n",
    "    return [int.from_bytes(byte_s[i:i+4], byteorder='big') for i in range(0,len(byte_s),4)]\n",
    "\n",
    "def create_config_tdata(N, fwd_inv=True):\n",
    "    assert N > 2 and N < 13, RuntimeError\n",
    "    N = int(N)\n",
    "    NFFT = N.to_bytes(1, byteorder='big')            # Must be padded to byte\n",
    "    CP_LEN = ''                                      # padded but unused for this FFT config\n",
    "    FWD_INV = '0b1' if fwd_inv == True else '0b0'    # No padding\n",
    "    SCALE_SCH = ''                                   # padded but unused for this FFT config\n",
    "    return bytes_to_uint32s(bits_to_bytes(FWD_INV) + NFFT) # Final result needs padded to 8 bits worth and converted into 32-bit words for AXI\n",
    "\n",
    "ol = Overlay('/home/xilinx/jupyter_notebooks/class/Overlays/microzed_fft.bit')\n",
    "fft = ol.axi_dma\n",
    "fft_cfg = ol.axi_fifo_fft_ctrl"
   ]
  },
  {
   "cell_type": "code",
   "execution_count": null,
   "metadata": {},
   "outputs": [],
   "source": [
    "rate, audio = wavfile.read('baltimore_oriole.wav')"
   ]
  },
  {
   "cell_type": "code",
   "execution_count": null,
   "metadata": {},
   "outputs": [],
   "source": [
    "N = audio.shape[0]\n",
    "L = N / rate\n",
    "\n",
    "print(f'Audio length: {L:.2f} seconds')\n",
    "\n",
    "# Config the FPGA fft\n",
    "M = 4096\n",
    "cfg_data = create_config_tdata(log2(M), 1)\n",
    "fft_cfg.send_tx_pkt(cfg_data)\n",
    "\n",
    "# Extract strided windows\n",
    "stride_size = 100\n",
    "window_size = M\n",
    "truncate_size = (len(audio) - window_size) % stride_size\n",
    "audio = audio[0:len(audio) - truncate_size]\n",
    "nshape = (window_size, (len(audio) - window_size) // stride_size + 1)\n",
    "nstrides = (audio.strides[0], audio.strides[0] * stride_size)\n",
    "slices = np.lib.stride_tricks.as_strided(audio, \n",
    "                                         shape = nshape, strides = nstrides)\n",
    "print(f'Number of {M} length FFTs to perform: {slices.shape[1]}')\n",
    "win = np.hanning(M + 1)[:-1]\n",
    "win = np.expand_dims(win, axis=-1)\n",
    "slices = (slices * win).T\n",
    "fft.resize_bufs(shape=[M,], dtype=np.complex64)\n",
    "\n",
    "spectrum = np.empty(shape=[M // 2 + 1 - 3, slices.shape[1]], dtype=np.complex64)\n",
    "\n",
    "print('Data copies and FFT calculations begin...')\n",
    "for i in range(slices.shape[1]):\n",
    "    #  Comment these lines out and test the Numpy FFT if you like\n",
    "    fft.txbuf[0:M] = slices[i,:]\n",
    "    fft.send_dma()  # These 2 lines replace np.fft\n",
    "    fft.rcv_dma()   # These 2 lines replace np.fft\n",
    "    spectrum[:,i] = fft.rxbuf[:M // 2 + 1:-1]\n",
    "    \n",
    "    # Uncomment to run the Numpy FFT\n",
    "    #spectrum[:,i] = np.fft.fftn(slices[i,:])[:M // 2 + 1:-1]\n",
    "print('FFT calculations complete.')\n",
    "\n",
    "print('Preparing plots and plotting...')\n",
    "# Create plots of time and spectrum\n",
    "N = audio.shape[0]  # Recaluate N, Audio may be trimmed\n",
    "f, ax = plt.subplots()\n",
    "ax.plot(np.arange(N) / rate, audio)\n",
    "ax.set_xlabel('Time [s]')\n",
    "ax.set_ylabel('Amplitude');\n",
    "    \n",
    "spectrum = np.abs(spectrum)\n",
    "f, ax = plt.subplots(figsize=(4.8, 2.4))\n",
    "\n",
    "S = np.abs(spectrum)\n",
    "S = 20 * np.log10(S / np.max(S))\n",
    "\n",
    "ax.imshow(S, origin='lower', cmap='viridis',\n",
    "          extent=(0, L, 0, rate / 2 / 1000))\n",
    "ax.axis('tight')\n",
    "ax.set_ylabel('Frequency [kHz]')\n",
    "ax.set_xlabel('Time [s]');"
   ]
  },
  {
   "cell_type": "code",
   "execution_count": null,
   "metadata": {},
   "outputs": [],
   "source": [
    "from IPython.display import Audio\n",
    "Audio('baltimore_oriole.wav')"
   ]
  },
  {
   "cell_type": "code",
   "execution_count": null,
   "metadata": {},
   "outputs": [],
   "source": [
    "from IPython.display import Image\n",
    "Image(filename='baltimore_oriole.jpg') "
   ]
  },
  {
   "cell_type": "markdown",
   "metadata": {},
   "source": [
    "![end](../images/epilogue.png)"
   ]
  },
  {
   "cell_type": "code",
   "execution_count": null,
   "metadata": {},
   "outputs": [],
   "source": []
  }
 ],
 "metadata": {
  "kernelspec": {
   "display_name": "Python 3",
   "language": "python",
   "name": "python3"
  },
  "language_info": {
   "codemirror_mode": {
    "name": "ipython",
    "version": 3
   },
   "file_extension": ".py",
   "mimetype": "text/x-python",
   "name": "python",
   "nbconvert_exporter": "python",
   "pygments_lexer": "ipython3",
   "version": "3.6.5"
  }
 },
 "nbformat": 4,
 "nbformat_minor": 4
}
